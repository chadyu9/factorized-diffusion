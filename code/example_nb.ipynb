{
 "cells": [
  {
   "cell_type": "code",
   "execution_count": 6,
   "metadata": {},
   "outputs": [],
   "source": [
    "from torchvision import transforms\n",
    "from PIL import Image"
   ]
  },
  {
   "cell_type": "code",
   "execution_count": 7,
   "metadata": {},
   "outputs": [],
   "source": [
    "path_to_image = \"../results/motion/if_stage_II.png\"\n",
    "image = Image.open(path_to_image)\n",
    "tensor_image = transforms.ToTensor()(image)"
   ]
  },
  {
   "cell_type": "code",
   "execution_count": 8,
   "metadata": {},
   "outputs": [],
   "source": [
    "import numpy as np\n",
    "import torch\n",
    "import torch.nn.functional as F"
   ]
  },
  {
   "cell_type": "code",
   "execution_count": 9,
   "metadata": {},
   "outputs": [],
   "source": [
    "def motion_blur_factorization(x: torch.Tensor, blur_length: int = 7):\n",
    "    \"\"\"\n",
    "    Factorizes image(s) into motion blurred and residual components using a diagonal motion blur kernel.\n",
    "\n",
    "    Args:\n",
    "        x (torch.Tensor): Input image tensor of shape (C, H, W) or (B, C, H, W).\n",
    "        blur_length (int): Size of the square diagonal blur kernel. Default is 7.\n",
    "\n",
    "    Returns:\n",
    "        Tuple[torch.Tensor, torch.Tensor]: (motion_blurred, residual), both same shape as input.\n",
    "    \"\"\"\n",
    "\n",
    "    # Ensure batch dimension\n",
    "    if x.dim() == 3:\n",
    "        x = x.unsqueeze(0)  # Shape: (1, C, H, W)\n",
    "\n",
    "    B, C, H, W = x.shape\n",
    "\n",
    "    # Create a diagonal blur kernel\n",
    "    kernel = torch.zeros(1, 1, blur_length, blur_length, device=x.device)\n",
    "    for i in range(blur_length):\n",
    "        kernel[0, 0, i, i] = 1.0 / blur_length  # normalized diagonal\n",
    "\n",
    "    # Expand for depthwise convolution: (C, 1, kH, kW)\n",
    "    kernel = kernel.expand(C, 1, blur_length, blur_length)\n",
    "\n",
    "    # Apply depthwise convolution\n",
    "    motion_blurred = F.conv2d(x, kernel, padding=\"same\", groups=C)\n",
    "\n",
    "    residual = x - motion_blurred\n",
    "\n",
    "    return motion_blurred, residual"
   ]
  },
  {
   "cell_type": "code",
   "execution_count": 10,
   "metadata": {},
   "outputs": [],
   "source": [
    "blur_ii = motion_blur_factorization(tensor_image)[0]\n",
    "arr_m = (blur_ii[0].cpu().permute(1, 2, 0).numpy() * 255).round().astype(np.uint8)\n",
    "Image.fromarray(arr_m).save(\"if_stage_II_motion.png\")"
   ]
  }
 ],
 "metadata": {
  "kernelspec": {
   "display_name": "venv",
   "language": "python",
   "name": "python3"
  },
  "language_info": {
   "codemirror_mode": {
    "name": "ipython",
    "version": 3
   },
   "file_extension": ".py",
   "mimetype": "text/x-python",
   "name": "python",
   "nbconvert_exporter": "python",
   "pygments_lexer": "ipython3",
   "version": "3.9.5"
  }
 },
 "nbformat": 4,
 "nbformat_minor": 2
}
